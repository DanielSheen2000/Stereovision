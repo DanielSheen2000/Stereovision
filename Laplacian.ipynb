{
 "cells": [
  {
   "cell_type": "code",
   "execution_count": 1,
   "metadata": {},
   "outputs": [],
   "source": [
    "import cv2\n",
    "import numpy as np\n",
    "import time\n",
    "from matplotlib import pyplot as plt\n",
    "from mpl_toolkits.mplot3d import Axes3D\n",
    "from numpy import inf\n",
    "import re\n",
    "import sys"
   ]
  },
  {
   "cell_type": "code",
   "execution_count": 2,
   "metadata": {},
   "outputs": [],
   "source": [
    "# from calib.txt\n",
    "#cam0 = [6872.874, 0, 1329.49; 0, 6872.874, 954.485; 0, 0, 1]\n",
    "#cam1 = [6872.874 0 1623.46; 0 6872.874 954.485; 0 0 1]\n",
    "f = 6872.874\n",
    "doffs = 294 # actually 293.97 (pixels) but rounded\n",
    "baseline = 174.724 # mm\n",
    "columns = 2912 # width (pixels)\n",
    "rows = 2020 # height (pixels)\n",
    "ndisp = 260\n",
    "isint = 0\n",
    "vmin = 0\n",
    "vmax = 238\n",
    "dyavg = 0\n",
    "dymax = 0\n",
    "\n",
    "DOFFS = 294"
   ]
  },
  {
   "cell_type": "code",
   "execution_count": 6,
   "metadata": {},
   "outputs": [],
   "source": [
    "left_cam = cv2.imread(\"im0.png\")\n",
    "right_cam = cv2.imread(\"im1.png\")\n",
    "# left_cam and right_cam are numpy.darry of RGB values"
   ]
  },
  {
   "cell_type": "code",
   "execution_count": 7,
   "metadata": {},
   "outputs": [],
   "source": [
    "# resizing image to (606, 873)\n",
    "dim = (int(columns * 0.3), int(rows * 0.3))\n",
    "left_resize = cv2.resize(left_cam, dim, interpolation = cv2.INTER_AREA)\n",
    "right_resize = cv2.resize(right_cam, dim, interpolation = cv2.INTER_AREA)\n",
    "\n",
    "# resetting rows and columns and doffs\n",
    "columns = 873\n",
    "rows = 606\n",
    "doffs = 88"
   ]
  },
  {
   "cell_type": "code",
   "execution_count": 8,
   "metadata": {},
   "outputs": [],
   "source": [
    "#converting to grayscale \n",
    "left_cam_gray = cv2.cvtColor(left_resize, cv2.COLOR_BGR2GRAY)\n",
    "right_cam_gray = cv2.cvtColor(right_resize, cv2.COLOR_BGR2GRAY)\n",
    "\n",
    "# using LaPlacian to create a gradient\n",
    "left_cam_gray = cv2.Laplacian(left_cam_gray,cv2.CV_64F)\n",
    "right_cam_gray = cv2.Laplacian(right_cam_gray,cv2.CV_64F)"
   ]
  },
  {
   "cell_type": "code",
   "execution_count": 9,
   "metadata": {},
   "outputs": [],
   "source": [
    "# function to find intensity at a single pixel (x,y) in a 11x11 window GRAYSCALE ONLY\n",
    "def avg_intensity_gray_121(image,x,y):\n",
    "    window = image[x-5: x+6, y-5: y+6]\n",
    "    return np.sum(window)/121\n",
    "\n",
    "# function to find intensity at a single pixel (x,y) in a 9x9 window GRAYSCALE ONLY\n",
    "def avg_intensity_gray_81(image,x,y):\n",
    "    window = image[x-4: x+5, y-4: y+5]\n",
    "    return np.sum(window)/81\n",
    "\n",
    "# function to find intensity at a single pixel (x,y) in a 7x7 window GRAYSCALE ONLY\n",
    "def avg_intensity_gray_49(image,x,y):\n",
    "    window = image[x-3: x+4, y-3: y+4]\n",
    "    return np.sum(window)/49\n",
    "\n",
    "# function to find intensity at a single pixel (x,y) in a 5x5 window GRAYSCALE ONLY\n",
    "def avg_intensity_gray_25(image,x,y):\n",
    "    window = image[x-2: x+3, y-2: y+3]\n",
    "    return np.sum(window)/25\n",
    "\n",
    "# function to find intensity at a single pixel (x,y) in a 3x3 window GRAYSCALE ONLY\n",
    "def avg_intensity_gray_9(image,x,y):\n",
    "    window = image[x-1: x+2, y-1: y+2]\n",
    "    return np.sum(window)/9\n"
   ]
  },
  {
   "cell_type": "code",
   "execution_count": 10,
   "metadata": {},
   "outputs": [],
   "source": [
    "# finding avg intensity for left_cam_gray\n",
    "left_avginten_gray = np.zeros((rows, columns))\n",
    "for x in range(0, rows):\n",
    "    for y in range(0, columns):\n",
    "        if(x == 0 or x == rows - 1 or y == 0 or y == columns - 1):\n",
    "            left_avginten_gray[x][y] = left_cam_gray[x][y]\n",
    "        else:\n",
    "            try:\n",
    "                #**************************************EDIT HERE**************************************\n",
    "                #left_avginten_gray[x][y] = avg_intensity_gray_121(left_cam_gray,x,y)\n",
    "                left_avginten_gray[x][y] = avg_intensity_gray_81(left_cam_gray,x,y)\n",
    "                #left_avginten_gray[x][y] = avg_intensity_gray_49(left_cam_gray,x,y)\n",
    "                #left_avginten_gray[x][y] = avg_intensity_gray_25(left_cam_gray,x,y)\n",
    "                #left_avginten_gray[x][y] = avg_intensity_gray_9(left_cam_gray,x,y)\n",
    "            except IndexError:\n",
    "                left_avginten_gray[x][y] = left_cam_gray[x][y]"
   ]
  },
  {
   "cell_type": "code",
   "execution_count": 11,
   "metadata": {},
   "outputs": [
    {
     "name": "stdout",
     "output_type": "stream",
     "text": [
      "--- 2.6678671836853027 seconds ---\n"
     ]
    }
   ],
   "source": [
    "# finding avg intensity for left_cam_gray\n",
    "start_time = time.time()\n",
    "right_avginten_gray = np.zeros((rows, columns))\n",
    "for x in range(0, rows):\n",
    "    for y in range(0, columns):\n",
    "        if(x == 0 or x == rows - 1 or y == 0 or y == columns - 1):\n",
    "            right_avginten_gray[x][y] = right_cam_gray[x][y]\n",
    "        else:           \n",
    "            try:\n",
    "                #**************************************EDIT HERE**************************************\n",
    "                #right_avginten_gray[x][y] = avg_intensity_gray_121(right_cam_gray,x,y)\n",
    "                right_avginten_gray[x][y] = avg_intensity_gray_81(right_cam_gray,x,y)\n",
    "                #ight_avginten_gray[x][y] = avg_intensity_gray_49(right_cam_gray,x,y)\n",
    "                #right_avginten_gray[x][y] = avg_intensity_gray_25(right_cam_gray,x,y)\n",
    "                #right_avginten_gray[x][y] = avg_intensity_gray_9(right_cam_gray,x,y)\n",
    "            except IndexError:\n",
    "                right_avginten_gray[x][y] = right_cam_gray[x][y]\n",
    "print(\"--- %s seconds ---\" % (time.time() - start_time))"
   ]
  },
  {
   "cell_type": "code",
   "execution_count": 12,
   "metadata": {},
   "outputs": [
    {
     "data": {
      "text/plain": [
       "((606, 873), (606, 873))"
      ]
     },
     "execution_count": 12,
     "metadata": {},
     "output_type": "execute_result"
    }
   ],
   "source": [
    "# checking dimensions before continuing\n",
    "left_cam_gray.shape, left_avginten_gray.shape"
   ]
  },
  {
   "cell_type": "markdown",
   "metadata": {},
   "source": [
    "<h2> Creating Disparity Map"
   ]
  },
  {
   "cell_type": "code",
   "execution_count": 13,
   "metadata": {},
   "outputs": [],
   "source": [
    "# we do not need the entirety of intensity values for both images. while # rows are retained, we shorten the columns by the \n",
    "# following amounts\n",
    "# left: [doffs : Xl_max]\n",
    "# right: [0 : Xr_max - doffs]  \n",
    "\n",
    "f_left_bar = left_avginten_gray[:,doffs:]\n",
    "f_right_bar = right_avginten_gray[:,0:columns - doffs]\n",
    "\n",
    "# setting the same boundaries on the original images\n",
    "f_left = left_cam_gray[:,doffs:]\n",
    "f_right = right_cam_gray[:,0:columns - doffs]"
   ]
  },
  {
   "cell_type": "code",
   "execution_count": 14,
   "metadata": {},
   "outputs": [],
   "source": [
    "cv2.imshow('image',f_left)\n",
    "cv2.waitKey(0)\n",
    "cv2.destroyAllWindows()"
   ]
  },
  {
   "cell_type": "code",
   "execution_count": 15,
   "metadata": {},
   "outputs": [],
   "source": [
    "# function to find correlation values in 11x11 window GRAYSCALE \n",
    "def correlation_121(f_left, f_left_bar, f_right, f_right_bar, x, y, d):\n",
    "    # centered at (x,y)\n",
    "    window_left = f_left[x-5: x+6, y-5: y+6] - f_left_bar[x,y]\n",
    "    window_right = f_right[x-5: x+6, y-5 + d: y+6 + d] - f_right_bar[x,y]\n",
    "    \n",
    "    # numerator = covariance\n",
    "    cov = np.sum(np.multiply(window_left, window_right))\n",
    "    \n",
    "    # denominator split into 2 parts: variance of the left image and variance of the right image\n",
    "        # left image \n",
    "    var_left = np.sum(np.multiply(window_left, window_left))\n",
    "        # right image\n",
    "    var_right = np.sum(np.multiply(window_right, window_right))\n",
    "    \n",
    "    return cov/(var_left * var_right)**0.5\n",
    "\n",
    "# function to find correlation values in 9x9 window GRAYSCALE \n",
    "def correlation_81(f_left, f_left_bar, f_right, f_right_bar, x, y, d):\n",
    "    # centered at (x,y)\n",
    "    window_left = f_left[x-4: x+5, y-4: y+5] - f_left_bar[x,y]\n",
    "    window_right = f_right[x-4: x+5, y-4 + d: y+5 + d] - f_right_bar[x,y]\n",
    "    \n",
    "    # numerator = covariance\n",
    "    cov = np.sum(np.multiply(window_left, window_right))\n",
    "    \n",
    "    # denominator split into 2 parts: variance of the left image and variance of the right image\n",
    "        # left image \n",
    "    var_left = np.sum(np.multiply(window_left, window_left))\n",
    "        # right image\n",
    "    var_right = np.sum(np.multiply(window_right, window_right))\n",
    "    \n",
    "    return cov/(var_left * var_right)**0.5\n",
    "\n",
    "# function to find correlation values in 7x7 window GRAYSCALE \n",
    "def correlation_49(f_left, f_left_bar, f_right, f_right_bar, x, y, d):\n",
    "    # centered at (x,y)\n",
    "    window_left = f_left[x-3: x+4, y-3: y+4] - f_left_bar[x,y]\n",
    "    window_right = f_right[x-3: x+4, y-3 + d: y+4 + d] - f_right_bar[x,y]\n",
    "    \n",
    "    # numerator = covariance\n",
    "    cov = np.sum(np.multiply(window_left, window_right))\n",
    "    \n",
    "    # denominator split into 2 parts: variance of the left image and variance of the right image\n",
    "        # left image \n",
    "    var_left = np.sum(np.multiply(window_left, window_left))\n",
    "        # right image\n",
    "    var_right = np.sum(np.multiply(window_right, window_right))\n",
    "    \n",
    "    return cov/(var_left * var_right)**0.5\n",
    "\n",
    "# function to find correlation values in 5x5 window GRAYSCALE \n",
    "def correlation_25(f_left, f_left_bar, f_right, f_right_bar, x, y, d):\n",
    "    # centered at (x,y)\n",
    "    window_left = f_left[x-2: x+3, y-2: y+3] - f_left_bar[x,y]\n",
    "    window_right = f_right[x-2: x+3, y-2 + d: y+3 + d] - f_right_bar[x,y]\n",
    "    \n",
    "    # numerator = covariance\n",
    "    cov = np.sum(np.multiply(window_left, window_right))\n",
    "    \n",
    "    # denominator split into 2 parts: variance of the left image and variance of the right image\n",
    "        # left image \n",
    "    var_left = np.sum(np.multiply(window_left, window_left))\n",
    "        # right image\n",
    "    var_right = np.sum(np.multiply(window_right, window_right))\n",
    "    \n",
    "    return cov/(var_left * var_right)**0.5\n",
    "\n",
    "# function to find correlation values in 3x3 window GRAYSCALE \n",
    "def correlation_9(f_left, f_left_bar, f_right, f_right_bar, x, y, d):\n",
    "    # centered at (x,y)\n",
    "    window_left = f_left[x-1: x+2, y-1: y+2] - f_left_bar[x,y]\n",
    "    window_right = f_right[x-1: x+2, y-1+d: y+2+d] - f_right_bar[x,y]\n",
    "    \n",
    "    # numerator = covariance\n",
    "    cov = np.sum(np.multiply(window_left, window_right))\n",
    "    \n",
    "    # denominator split into 2 parts: variance of the left image and variance of the right image\n",
    "        # left image \n",
    "    var_left = np.sum(np.multiply(window_left, window_left))\n",
    "        # right image\n",
    "    var_right = np.sum(np.multiply(window_right, window_right))\n",
    "    \n",
    "    return cov/(var_left * var_right)**0.5\n",
    "\n"
   ]
  },
  {
   "cell_type": "code",
   "execution_count": 16,
   "metadata": {},
   "outputs": [
    {
     "data": {
      "text/plain": [
       "(606, 785)"
      ]
     },
     "execution_count": 16,
     "metadata": {},
     "output_type": "execute_result"
    }
   ],
   "source": [
    "# setting new rows and column dimensions for disparity map\n",
    "disparity_x, disparity_y = f_left.shape\n",
    "disparity = np.zeros((disparity_x, disparity_y ))\n",
    "disparity_x, disparity_y "
   ]
  },
  {
   "cell_type": "code",
   "execution_count": 17,
   "metadata": {},
   "outputs": [
    {
     "data": {
      "text/plain": [
       "((606, 785), (606, 785), (606, 785), (606, 785))"
      ]
     },
     "execution_count": 17,
     "metadata": {},
     "output_type": "execute_result"
    }
   ],
   "source": [
    "# checking dimensions again before moving ahead\n",
    "f_left.shape, f_left_bar.shape, f_right.shape, f_right_bar.shape"
   ]
  },
  {
   "cell_type": "code",
   "execution_count": 18,
   "metadata": {},
   "outputs": [
    {
     "name": "stdout",
     "output_type": "stream",
     "text": [
      "--- 635.868391752243 seconds ---\n"
     ]
    }
   ],
   "source": [
    "# using left image as reference\n",
    "# ndsip = 104 #for reduction factor of 0.4\n",
    "# ndisp = 78  #for reduction factor of 0.3\n",
    "# ndsip = 65  #for reduction factor of 0.25\n",
    "ndisp = 78\n",
    "\n",
    "start_time = time.time() # to measure time\n",
    "for x in range(4, disparity_x - 5):\n",
    "    i = ndisp \n",
    "    for y in range(4, disparity_y - 5):\n",
    "        corr = []\n",
    "        if(y >= disparity_y - ndisp - 4):\n",
    "            i -= 1\n",
    "        for d in range(min(ndisp, i)):\n",
    "            #print(x,y,d,i)\n",
    "            corr += [correlation_81(f_left, f_left_bar, f_right, f_right_bar, x, y, d)]      \n",
    "        disparity[x,y] = corr.index(max(corr))\n",
    "print(\"--- %s seconds ---\" % (time.time() - start_time))"
   ]
  },
  {
   "cell_type": "code",
   "execution_count": 20,
   "metadata": {},
   "outputs": [],
   "source": [
    "# to prevent corruption of my disparity map since it takes a while to run the code\n",
    "copy = disparity"
   ]
  },
  {
   "cell_type": "code",
   "execution_count": 21,
   "metadata": {
    "scrolled": true
   },
   "outputs": [],
   "source": [
    "norm_image = cv2.normalize(copy, None, alpha = 0, beta = 1, norm_type=cv2.NORM_MINMAX, dtype=cv2.CV_32F)\n",
    "cv2.imshow('norm_image', norm_image)\n",
    "#cv2.imshow('image',f_right)\n",
    "#cv2.imshow('image2',f_left)\n",
    "#cv2.imshow('image3',left_avginten_gray)\n",
    "#cv2.imshow('image2',right_avginten_gray)\n",
    "cv2.waitKey(0)\n",
    "cv2.destroyAllWindows()"
   ]
  },
  {
   "cell_type": "code",
   "execution_count": 26,
   "metadata": {},
   "outputs": [
    {
     "data": {
      "image/png": "[encoded data removed]",
      "text/plain": [
       "<Figure size 432x288 with 1 Axes>"
      ]
     },
     "metadata": {
      "needs_background": "light"
     },
     "output_type": "display_data"
    }
   ],
   "source": [
    "from matplotlib import pyplot as plt\n",
    "plt.imshow(copy, cmap=\"plasma\")\n",
    "plt.savefig('sword_laplacian.png')\n",
    "plt.show()"
   ]
  },
  {
   "cell_type": "markdown",
   "metadata": {},
   "source": [
    "<h2> 3D Plotting"
   ]
  },
  {
   "cell_type": "code",
   "execution_count": 5,
   "metadata": {},
   "outputs": [],
   "source": [
    "def write_pfm(file, image, scale = 1):\n",
    "  file = open(file, 'wb')\n",
    "  color = None\n",
    "  if image.dtype.name != 'float32':\n",
    "    raise Exception('Image dtype must be float32.')\n",
    "\n",
    "  if len(image.shape) == 3 and image.shape[2] == 3: # color image\n",
    "    color = True\n",
    "  elif len(image.shape) == 2 or len(image.shape) == 3 and image.shape[2] == 1: # greyscale\n",
    "    color = False\n",
    "  else:\n",
    "    raise Exception('Image must have H x W x 3, H x W x 1 or H x W dimensions.')\n",
    "  file.write(b'PF\\n' if color else b'Pf\\n')\n",
    "  file.write(b'%d %d\\n' % (image.shape[1], image.shape[0]))\n",
    "  endian = image.dtype.byteorder\n",
    "  if endian == '<' or endian == '=' and sys.byteorder == 'little':\n",
    "    scale = -scale\n",
    "  file.write(b'%f\\n' % scale)\n",
    "  image.tofile(file)  \n",
    "    \n",
    "def get_grayscale(filename, max_val_pct=0.1):\n",
    "    data, _ = load_pfm(filename)\n",
    "    data = np.where(data == np.inf, -1, data)\n",
    "    max_val = np.max(data)\n",
    "    max_val += max_val * max_val_pct\n",
    "    data = np.where(data == -1, max_val, data)\n",
    "    return cv2.normalize(data, dst=None, alpha=0, beta=255, norm_type=cv2.NORM_MINMAX).astype(np.uint8)"
   ]
  },
  {
   "cell_type": "code",
   "execution_count": 119,
   "metadata": {},
   "outputs": [],
   "source": [
    "# flip image so its aligned when converted to a pfm\n",
    "rectified = cv2.flip(-0.3 * copy[4:disparity_x - 4, 4: disparity_y-4],0) \n",
    "#rectified = cv2.flip(copy,0) \n",
    "rectified = np.float32(rectified)"
   ]
  },
  {
   "cell_type": "code",
   "execution_count": 120,
   "metadata": {},
   "outputs": [],
   "source": [
    "write_pfm(\"disp0.pfm\", rectified)"
   ]
  },
  {
   "cell_type": "code",
   "execution_count": 96,
   "metadata": {},
   "outputs": [],
   "source": [
    "# obtaining Z values using z = baseline * f /(d)\n",
    "baseline = 52.4172\n",
    "f = 2061.8622\n",
    "doffs = 88\n",
    "baseline, f, doffs\n",
    "depth = baseline * f/(copy + doffs)\n",
    "# to remove the border which serves no purpose\n",
    "Z = depth[4:disparity_x - 4, 4: disparity_y-4]"
   ]
  },
  {
   "cell_type": "code",
   "execution_count": 97,
   "metadata": {},
   "outputs": [
    {
     "data": {
      "text/plain": [
       "(1228.1482194300002, 655.012383696)"
      ]
     },
     "execution_count": 97,
     "metadata": {},
     "output_type": "execute_result"
    }
   ],
   "source": [
    "# max and min Z values are 1228.148 and 655.0124 respectively\n",
    "np.amax(Z), np.amin(Z)"
   ]
  }
 ],
 "metadata": {
  "kernelspec": {
   "display_name": "Python 3",
   "language": "python",
   "name": "python3"
  },
  "language_info": {
   "codemirror_mode": {
    "name": "ipython",
    "version": 3
   },
   "file_extension": ".py",
   "mimetype": "text/x-python",
   "name": "python",
   "nbconvert_exporter": "python",
   "pygments_lexer": "ipython3",
   "version": "3.7.6"
  }
 },
 "nbformat": 4,
 "nbformat_minor": 2
}
